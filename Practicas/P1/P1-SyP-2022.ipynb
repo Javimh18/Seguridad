{
 "cells": [
  {
   "cell_type": "markdown",
   "metadata": {},
   "source": [
    "<Table border=\"1\">\n",
    "<tr><td>\n",
    "<img alt=\"INTRO Seguridad y Privacidad Python\" title=\"INTRO Seguridad y Privacidad Python\" src=\"./UAM+EPS_L.png\" width=\"800\">\n",
    "</td><td>\n",
    "</table>"
   ]
  },
  {
   "cell_type": "markdown",
   "metadata": {},
   "source": [
    "# Seguridad y Privacidad - Master Big Data y Data Science - 2021/2023"
   ]
  },
  {
   "cell_type": "markdown",
   "metadata": {},
   "source": [
    "# Práctica 1: Tecnologías criptográficas para la protección de la seguridad y privacidad"
   ]
  },
  {
   "cell_type": "markdown",
   "metadata": {},
   "source": [
    "En esta práctica continua se estudiarán y analizarán algunas de las funciones criptográficas que existen a través de Python, que nos pueden proporcionar seguridad y privacidad en los protocolos de seguridad.\n",
    "\n",
    "El paquete de Python para las funciones criptográficas que se utilizará es La librería pycryptodome:\n",
    "\n",
    "[pycryptodome](https://pypi.org/project/pycryptodome/): Es un paquete que tiene implementadas varias funciones criptográficas de cifrado y funciones hash que hemos visto en clase, y muchas más incluidos protocolos de firma. \n"
   ]
  },
  {
   "cell_type": "markdown",
   "metadata": {},
   "source": [
    "## 1) Cifrados simétricos: DES"
   ]
  },
  {
   "cell_type": "code",
   "execution_count": 2,
   "metadata": {
    "scrolled": true
   },
   "outputs": [
    {
     "name": "stdout",
     "output_type": "stream",
     "text": [
      "Versión de python: 3.8.10\n",
      "Versión de pycryptodome: 2.6.1\n",
      "Mensaje plano --> b'22222222'\n",
      "Mensaje cifrado --> b\"\\xf9'\\x14\\xe8\\x0e\\x83.\\xdc\"\n",
      "Mensaje cifrado --> f92714e80e832edc\n",
      "Mensaje descifrado --> b'22222222'\n"
     ]
    }
   ],
   "source": [
    "# DES 64 bits clave y bloque, modo ECB,\n",
    "# Recordar que es un cifrado de bloques.\n",
    "# la librería  PycCypto soporta AES, ARC2, Blowfish, CAST, DES, DES3, IDEA, RC5\n",
    "from Crypto.Cipher import DES\n",
    "from Crypto import Random\n",
    "import base64 \n",
    "\n",
    "# versión de python\n",
    "from platform import python_version\n",
    "print(\"Versión de python:\",python_version())\n",
    "\n",
    "# versión de pycryptodome\n",
    "import Crypto\n",
    "print(\"Versión de pycryptodome:\",Crypto.__version__)\n",
    "del Crypto\n",
    "\n",
    "\n",
    "key = b'11111111'         # para expresar que son bytes ya que la codificacion en python es diferente,\n",
    "                          # por ejemplo el caracter S puede tener una codificación diferente en función del python y\n",
    "                          # la plataforma en la que se ejecute.\n",
    "cipher = DES.new(key, DES.MODE_ECB)\n",
    "msg = b'22222222' # bloque de 8 bytes\n",
    "print('Mensaje plano -->', msg)\n",
    "# Cifrado\n",
    "msgc = cipher.encrypt(msg)\n",
    "print('Mensaje cifrado -->', msgc)\n",
    "# transformar a hexadecimal por los caracteres no imprimibles\n",
    "print('Mensaje cifrado -->', msgc.hex())\n",
    "# Descifrado\n",
    "msgd = cipher.decrypt(msgc)\n",
    "print('Mensaje descifrado -->', msgd)"
   ]
  },
  {
   "cell_type": "code",
   "execution_count": 16,
   "metadata": {
    "scrolled": false
   },
   "outputs": [
    {
     "name": "stdout",
     "output_type": "stream",
     "text": [
      "IV --> 133e568fddf94185\n",
      "Mensaje plano --> b'2222222233333333'\n",
      "IV + Mensaje cifrado --> 133e568fddf941850938a867f22bc2c620f15a2d5dc8c9cd\n",
      "-->\n",
      "-->\n",
      "Envio de mensaje cifrado por canal inseguro\n",
      "-->\n",
      "-->\n",
      "Mensaje cifrado --> 0938a867f22bc2c620f15a2d5dc8c9cd\n",
      "IV_enviado --> 133e568fddf94185\n",
      "Mensaje descifrado --> b'2222222233333333'\n"
     ]
    }
   ],
   "source": [
    "# DES 64 bits clave y bloque, modo CFB\n",
    "# El objeto de cifrador tiene un estado interno cuando se utiliza en el modos de en cadenado como CBC, \n",
    "# por lo que si intenta cifrar el mismo texto con el mismo cifrador una vez más, obtendrá resultados diferentes. \n",
    "# Por lo tanto, hay que tener cudado cuidado de crear un nuevo objeto cifrador para cualquier trabajo de cifrado / descifrado.\n",
    "# También cuando desciframos tenemos que crear un nuevo objeto. Con este nuevo objeto de descifrado tenemos que utilizar el\n",
    "# IV adecuado y normalmente se pasa en linea, poniendolo al principio del mensaje cifrado.\n",
    "# \n",
    "from Crypto.Cipher import DES\n",
    "from Crypto import Random\n",
    "\n",
    "key = b'11111111'         # para expresar que son bytes ya que la codificacion en python es diferente,\n",
    "                          # por ejemplo el caracter S puede tener una codificación diferente en función del python y\n",
    "                          # la plataforma en la que se ejecute.\n",
    "iv = Random.new().read(DES.block_size)\n",
    "print('IV -->', iv.hex())\n",
    "cipher1 = DES.new(key, DES.MODE_CFB, iv) # se crea un cifrador\n",
    "msg = b'2222222233333333' # 2 bloques de 8 bytes\n",
    "print('Mensaje plano -->', msg)\n",
    "# Cifrado, Emisor\n",
    "msgc = iv + cipher1.encrypt(msg) # El iv se añade al principio en el mensaje a enviar para luego al decifrar cogerlo\n",
    "print('IV + Mensaje cifrado -->', msgc.hex())\n",
    "\n",
    "####\n",
    "####\n",
    "# Ahora el Emisor envia el mensaje por la red al Receptor\n",
    "print('-->')\n",
    "print('-->')\n",
    "print('Envio de mensaje cifrado por canal inseguro')\n",
    "print('-->')\n",
    "print('-->')\n",
    "####\n",
    "####\n",
    "\n",
    "# Descifrado, Receptor\n",
    "iv_enviado = msgc[:DES.block_size] # primero se saca el iv  del mensaje que estaba al principio\n",
    "cipher2 = DES.new(key, DES.MODE_CFB, iv_enviado) # se crea un nuevo cifrador \n",
    "solo_mensaje=msgc[DES.block_size:]\n",
    "print('Mensaje cifrado -->', solo_mensaje.hex())\n",
    "msgd = cipher2.decrypt(solo_mensaje) # Deciframos el mensaje sin el iv\n",
    "print('IV_enviado -->', iv_enviado.hex())\n",
    "print('Mensaje descifrado -->', msgd)"
   ]
  },
  {
   "cell_type": "markdown",
   "metadata": {},
   "source": [
    "## 2) Cifrados simétricos: AES"
   ]
  },
  {
   "cell_type": "code",
   "execution_count": 4,
   "metadata": {},
   "outputs": [
    {
     "name": "stdout",
     "output_type": "stream",
     "text": [
      "Mensaje plano --> b'2222222222222222'\n",
      "Mensaje cifrado --> b'2\\x88\\xa9\\x84\\xdd\\x06\\xffX\\xe99`\\xb1\\xde\\xc5\\x0f\\x1e'\n",
      "Mensaje descifrado --> b'2222222222222222'\n"
     ]
    }
   ],
   "source": [
    "# AES 128 bit bloque y 128 bits clave, modo ECB\n",
    "from Crypto.Cipher import AES\n",
    "from Crypto import Random\n",
    "# Definición de la función lambda que comvierte una cadena a hexadecimal.\n",
    "HEXA= lambda xx: ':'.join(hex(ord(x))[2:] for x in xx)\n",
    "\n",
    "key = b'1111111111111111' # para expresar que son bytes ya que la codificacion en python es diferente,\n",
    "                          # por ejemplo el caracter S puede tener una codificación diferente en función del python y\n",
    "                          # la plataforma en la que se ejecute.\n",
    "cipher = AES.new(key, AES.MODE_ECB)\n",
    "msg = b'2222222222222222' # Mensaje de 16 bytes\n",
    "print('Mensaje plano -->', msg)\n",
    "# Cifrado\n",
    "msgc = cipher.encrypt(msg)\n",
    "print('Mensaje cifrado -->', msgc)\n",
    "# Descifrado\n",
    "msgd = cipher.decrypt(msgc)\n",
    "print('Mensaje descifrado -->', msgd)"
   ]
  },
  {
   "cell_type": "markdown",
   "metadata": {},
   "source": [
    "## Tu turno 1: Probar el AES con el modo de operación CFB. Probar el AES con tamaños de claves superiores a 128 en modo CFB. Probar el DES3 con el modo de operación CFB."
   ]
  },
  {
   "cell_type": "code",
   "execution_count": 14,
   "metadata": {},
   "outputs": [
    {
     "name": "stdout",
     "output_type": "stream",
     "text": [
      "Mensaje plano --> b'2222222222222222'\n",
      "Mensaje cifrado --> b\"x\\xb7:\\x86\\xd8\\xbc\\x1cPw\\xb5\\xe3\\xe9\\xb0'\\xb8e?]/\\x8c\\xd4\\x8b\\x80qz\\x9c\\xbf\\xa8\\xa4*f\\xae\"\n",
      "Mensaje descifrado --> b'2222222222222222'\n"
     ]
    }
   ],
   "source": [
    "# AES 128 bit bloque y 192 bits clave, modo ECB\n",
    "from Crypto.Cipher import AES\n",
    "from Crypto import Random\n",
    "from Crypto.Random import get_random_bytes\n",
    "# Definición de la función lambda que comvierte una cadena a hexadecimal.\n",
    "HEXA= lambda xx: ':'.join(hex(ord(x))[2:] for x in xx)\n",
    "\n",
    "iv = Random.new().read(AES.block_size)\n",
    "key = get_random_bytes(24)# Hacer que la clave de 192 bits, 24 bits\n",
    "# cambiamos el modo del cipher a CFB\n",
    "cipherAES_196 = AES.new(key, AES.MODE_CFB, iv)\n",
    "msg = b'2222222222222222' \n",
    "msg_iv = iv + msg\n",
    "print('Mensaje plano -->', msg)\n",
    "\n",
    "# Cifrado\n",
    "msgc = cipherAES_196.encrypt(msg_iv)\n",
    "print('Mensaje cifrado -->', msgc)\n",
    "# Descifrado\n",
    "msgd = cipherAES_196.decrypt(msgc)\n",
    "iv_rec = msgd[:AES.block_size]\n",
    "msg_final = msgd[AES.block_size:]\n",
    "print('Mensaje descifrado -->', msg_final)"
   ]
  },
  {
   "cell_type": "code",
   "execution_count": 9,
   "metadata": {},
   "outputs": [
    {
     "name": "stdout",
     "output_type": "stream",
     "text": [
      "Mensaje plano --> b'2222222222222222'\n",
      "IV + Mensaje cifrado --> 8b1709e6289c29a9095782d68912e978b158ed8c079faf9a\n",
      "-->\n",
      "-->\n",
      "Envio de mensaje cifrado por canal inseguro\n",
      "-->\n",
      "-->\n",
      "Mensaje cifrado --> 095782d68912e978b158ed8c079faf9a\n",
      "IV_enviado --> 8b1709e6289c29a9\n",
      "Mensaje descifrado --> b'2222222222222222'\n"
     ]
    }
   ],
   "source": [
    "from Crypto.Cipher import DES3\n",
    "\n",
    "key = b'1111111111111111'\n",
    "msg = b'2222222222222222' \n",
    "\n",
    "iv_DES3 = Random.new().read(DES3.block_size)\n",
    "\n",
    "cipherDES3 = DES3.new(key, DES3.MODE_CFB, iv_DES3)\n",
    "\n",
    "print('Mensaje plano -->', msg)\n",
    "# Cifrado, Emisor\n",
    "msgc = iv_DES3 + cipherDES3.encrypt(msg) # El iv se añade al principio en el mensaje a enviar para luego al decifrar cogerlo\n",
    "print('IV + Mensaje cifrado -->', msgc.hex())\n",
    "\n",
    "####\n",
    "####\n",
    "# Ahora el Emisor envia el mensaje por la red al Receptor\n",
    "print('-->')\n",
    "print('-->')\n",
    "print('Envio de mensaje cifrado por canal inseguro')\n",
    "print('-->')\n",
    "print('-->')\n",
    "####\n",
    "####\n",
    "\n",
    "# Descifrado, Receptor\n",
    "iv_enviado = msgc[:DES3.block_size] # primero se saca el iv  del mensaje que estaba al principio\n",
    "cipher2 = DES3.new(key, DES3.MODE_CFB, iv_enviado) # se crea un nuevo cifrador \n",
    "solo_mensaje=msgc[DES3.block_size:]\n",
    "print('Mensaje cifrado -->', solo_mensaje.hex())\n",
    "msgd = cipher2.decrypt(solo_mensaje) # Deciframos el mensaje sin el iv\n",
    "print('IV_enviado -->', iv_enviado.hex())\n",
    "print('Mensaje descifrado -->', msgd)"
   ]
  },
  {
   "cell_type": "markdown",
   "metadata": {},
   "source": [
    "## 3) Cifrados de flujo: ARC4 (RC4)"
   ]
  },
  {
   "cell_type": "code",
   "execution_count": 18,
   "metadata": {},
   "outputs": [
    {
     "name": "stdout",
     "output_type": "stream",
     "text": [
      "clave elegida por el Emisor y Receptor --> b'Very long and confidential key'\n",
      "nonce generado --> c861f10c16060b5356b84a7ee3b7243c\n",
      "Mensaje cifrado --> c861f10c16060b5356b84a7ee3b7243c67e7eb9f8489d3b494d3d962fb33278cca896e94c2707805c98d02fa038708ac8a363eefa0c0be4cd78882\n",
      "-->\n",
      "-->\n",
      "Envio de mensaje cifrado por canal inseguro\n",
      "-->\n",
      "-->\n",
      "nonce recibido, extraído del mensaje cifrado recibido --> c861f10c16060b5356b84a7ee3b7243c\n",
      "Mensaje descifrado --> b'Hola, quiero que me cifres en flujo con rc4'\n"
     ]
    }
   ],
   "source": [
    "# RC4, recordar que este algoritmo trabaja byte a byte, es decir el tamaño de bloque es un byte, y el modo es ECB\n",
    "# # la librería  PycCypto soporta RC4, XOR\n",
    "from Crypto.Cipher import ARC4\n",
    "from Crypto.Hash import SHA\n",
    "from Crypto import Random\n",
    "\n",
    "msg=b'Hola, quiero que me cifres en flujo con rc4'\n",
    "key = b'Very long and confidential key'\n",
    "print('clave elegida por el Emisor y Receptor -->',\"%s\"  % key)\n",
    "nonce = Random.new().read(16) # Nonce de 16 bytes\n",
    "print('nonce generado -->',\"%s\"  % nonce.hex())\n",
    "key_temporal = SHA.new(key+nonce).digest() # combina la clave y el nonce de manera compleja\n",
    "cifrador1 = ARC4.new(key_temporal)\n",
    "cipher_text = nonce + cifrador1.encrypt(msg)\n",
    "print('Mensaje cifrado -->',\"%s\"  % cipher_text.hex())\n",
    "\n",
    "\n",
    "####\n",
    "####\n",
    "# Ahora el Emisor envia el mensaje por la red al Receptor\n",
    "print('-->')\n",
    "print('-->')\n",
    "print('Envio de mensaje cifrado por canal inseguro')\n",
    "print('-->')\n",
    "print('-->')\n",
    "####\n",
    "####\n",
    "\n",
    "\n",
    "# el receptor conoce key = b'Very long and confidential key', ya que es un cifrado simétrico.\n",
    "# solo le hace falta sacar el nonce del mensaje de 16 bbytes para sacar la key_temporal a través del hash sha\n",
    "\n",
    "nonce_enviado = cipher_text[:16] # primero se saca el nonce del mensaje, i.e. los 16 primero bytes\n",
    "print('nonce recibido, extraído del mensaje cifrado recibido -->',\"%s\"  % nonce_enviado.hex())\n",
    "key_temporal = SHA.new(key+nonce_enviado).digest()\n",
    "cifrador2 = ARC4.new(key_temporal)\n",
    "plain_text=cifrador2.decrypt(cipher_text[16:]) # descifra solo el mensaje, i.e. a partir de lo 16 bytes de nonce\n",
    "print('Mensaje descifrado -->', \"%s\"  % plain_text)"
   ]
  },
  {
   "cell_type": "markdown",
   "metadata": {},
   "source": [
    "## Tu turno 2: Explicar con detalle porque para el cifrado de flujo RC4, como mostramos en el código anterior, la clave de largo plazo se combina complejamente con un Nonce a través de una función Hash ¿Porqué no se utiliza solo la clave de largo plazo? ¿Porqué no se utiliza ninguna función de Padding? ¿Qué relación tiene RC4 con OTP?"
   ]
  },
  {
   "cell_type": "markdown",
   "metadata": {},
   "source": [
    "Se usa la combinación compleja de un Nonce con la clave de largo plazo para generar la clave de corto plazo. Esto se hace debido a que el XOR de los textos cifrados y los textos planos es el mismo. Tomando como ejemplo de las transparencias: Y1 xor Y2 es lo mismo que (X1 xor K) xor (X2 xor K) = X1 xor X2. Es posible sacar la parte que se repite en la clave (la clave de largo plazo), por lo que se tendrá que realizar una combinación compleja (como un hash).\n",
    "\n",
    "No se usa Padding debido a que, con los suficientes mensajes, deducir la parte de clave a largo plazo y el padding.\n",
    "\n",
    "La relación que tiene OTP con RC4 es que ambas se apoyan en el concepto de utilizar números aleatorios para la generación de claves y poder realizar cifrados (aunque en el caso de OTP esa clave no puede provenir de un algoritmo de generación de números pesudo-aleatorios). La diferencia reside en que OTP debe tener una clave tan larga como el mensaje que se quiere encriptar, ya que el mensaje es codificado bit a bit, usando operaciones modulares. Por otro lado, RC4 usa encriptación a nivel de bytes."
   ]
  },
  {
   "cell_type": "markdown",
   "metadata": {},
   "source": [
    "## 4) Números grandes y primos"
   ]
  },
  {
   "cell_type": "code",
   "execution_count": 1,
   "metadata": {},
   "outputs": [
    {
     "name": "stdout",
     "output_type": "stream",
     "text": [
      "a= 2071807432749382749858321984570321740321403217098750948590849058904285904285908490589048590485094809583409859034285392\n",
      "b= 221740321403217098750948590849058904285904285908490589048590485094809583409859034285392\n",
      "c=a*b= 459403246023422225709304167202868039658205344539028817028410035649877817008105003350087322134711902659544448208557981220575724658000452849045673521548530808629308809973244668816985865008426134944104593664\n"
     ]
    }
   ],
   "source": [
    "# Aquí vemos algún ejemplo de utilización de nuúmeros grandes y primos, que se puede necesitar parra criptografía públlica.\n",
    "a=2071807432749382749858321984570321740321403217098750948590849058904285904285908490589048590485094809583409859034285392\n",
    "b=221740321403217098750948590849058904285904285908490589048590485094809583409859034285392\n",
    "c=a*b\n",
    "print('a=', a)\n",
    "print('b=', b)\n",
    "print('c=a*b=', c)\n",
    "\n",
    "\n",
    "\n"
   ]
  },
  {
   "cell_type": "code",
   "execution_count": 2,
   "metadata": {},
   "outputs": [
    {
     "data": {
      "text/plain": [
       "937333364126107188080821930171874610294123566670350481626732794654049994145183796905659922107288744406350506648953094610871831813783039408656294096592996101320877921971154241672717549088366319086698497122764932701141556444355474336233794611845670979551507241879441223362327002729655607002092316398149628674763735231936877334986501799287256820803572332520493295230782797759178946680647270424121974789617419804394659464047871240011765686175514726822636276914895821908478182217265693122990602678009531183770406448234028951724962402226668348716488768768138738827740726518764057617635447604222504836778932197936227379118297706103763523938718586495205742738510012613020200547219828998638066096911191759001537630456108698122171328807177655253090300337809039615069331189271362591239445051402949799939662363586254763525613769286843493056231591084843887791423437906474852320281142720463044645957623385049475784710605176531764544689495226442032247352546551620676378168966721876493376862263377538629884086845358462495103606253310542905765727202165622092500920280116901189277473632843697261635585872079023750959661119444557327260360259965681413038389997349679672710036154446335673942813704433261543091605633509437080520264432325188970271705170139"
      ]
     },
     "execution_count": 2,
     "metadata": {},
     "output_type": "execute_result"
    }
   ],
   "source": [
    "# Utiliza un algorimos de primalidad para obtener un primo de 4096 bits. Es un algoritmo costoso computacionalmente hablando.\n",
    "from  Crypto.Util import number\n",
    "p=number.getPrime(4096)\n",
    "p"
   ]
  },
  {
   "cell_type": "markdown",
   "metadata": {},
   "source": [
    "## 5) Obtención de parejas de claves Privada-Pública para RSA y su cifrado"
   ]
  },
  {
   "cell_type": "code",
   "execution_count": 21,
   "metadata": {},
   "outputs": [
    {
     "name": "stdout",
     "output_type": "stream",
     "text": [
      "KEY --> Private RSA key at 0x19D5E82B160\n",
      "n --> 152957665405241898314482673652748158578526231702368131219480690378513394569202408607177026912685014287708786793367770981182131100820541266813899425505181495270352900172172050171092219241662533489914726608279573345974975015857551018088683098493615056443086220329477936798130419205274039421885056437501260596579\n",
      "e --> 65537\n",
      "d --> 40293843392111307405746160478475831725269178131826824563814705876677975808169354462343527795505598809377120551659335674574956168120546175456743009775153050910506857752781925780334696588209174181667815292080069945533758170237580884582780073707226318553680253297165364714940492133834329406713014302132377328833\n",
      "p --> 11765445956732192385664990416478487342803736410142736946120578714932509123934704034542394029523836007666919902510241968804938746553669975770411708034861249\n",
      "q --> 13000583740535518540820747751947833614136381704296232682308344164210148488571820360120839341028621875230965466039819038903908561691994328654190590954427171\n",
      "n=p*q --> 152957665405241898314482673652748158578526231702368131219480690378513394569202408607177026912685014287708786793367770981182131100820541266813899425505181495270352900172172050171092219241662533489914726608279573345974975015857551018088683098493615056443086220329477936798130419205274039421885056437501260596579\n",
      "¿Es primo p?--> 1\n",
      "¿Es primo q?--> 1\n",
      "¿Puede cifrar? --> True\n",
      "¿Puede firmar? --> True\n",
      "¿La clave privada está contenida ene el objeto? --> True\n",
      "¿Puede cifrar? --> False\n",
      "¿Puede firmar? --> True\n",
      "¿La clave privada está contenida ene el objeto? --> True\n",
      "public_key --> Public RSA key at 0x19D5E8CFCD0\n",
      "n --> 152957665405241898314482673652748158578526231702368131219480690378513394569202408607177026912685014287708786793367770981182131100820541266813899425505181495270352900172172050171092219241662533489914726608279573345974975015857551018088683098493615056443086220329477936798130419205274039421885056437501260596579\n",
      "e --> 65537\n",
      "msgc --> b'z1\\x1aI\\xb6\\xd6\\x87\\xe1\\xacl\\xfd\\x9bV~wM\\xef\\x0e\\x83}\\xd2\\xce\\xca\\xdf\\xa1\\xa3D/\\x05\\x00H\\xc8W\\x07\\xdan({\\\\\\xe2R,a;\\xb6K\\x17t\\xb9\\xc3\\x0c\\xba\\xe6\\x92\\xa5tU\\xe7)\\x04i\\x16\\xc1\\x185{\\xd4g`\\xdf>\\x90\\xb7!m\\xda>\\x89b\\xcb\\xeb]!\\xf2\\x8c\\xf3L\\xe1\\x13\\x9cR0\\xc8\\x9dU\\xbf\\x95\\xfa;\\x16X\\xaf\\x98\\xfa\\x98\\xc2.\\x11\\xc8.\\xec\\xa3E$\\xc2&\\xb3\\x19\\xfe\\xd1\\xb4\\xdc\\xef\\xa4\\xaa,\\\\z'\n",
      "msgc --> 7a311a49b6d687e1ac6cfd9b567e774def0e837dd2cecadfa1a3442f050048c85707da6e287b5ce2522c613bb64b1774b9c30cbae692a57455e729046916c118357bd46760df3e90b7216dda3e8962cbeb5d21f28cf34ce1139c5230c89d55bf95fa3b1658af98fa98c22e11c82eeca34524c226b319fed1b4dcefa4aa2c5c7a\n",
      "Mensaje decifrado --> Hola, quiero que me cifres con RSA\n"
     ]
    }
   ],
   "source": [
    "from  Crypto.Util import number\n",
    "from Crypto.PublicKey import RSA # manejo de claves RSA\n",
    "from Crypto.Cipher import PKCS1_OAEP # cifrador RSA\n",
    "from Crypto import Random\n",
    "\n",
    "\n",
    "generador_aleatorio = Random.new().read\n",
    "numero_bits_clave=1024\n",
    "key = RSA.generate(numero_bits_clave, generador_aleatorio) # la clave tiene toda la información que se necesita mas lo métodos asociados\n",
    "print('KEY --> ' \"%s\"  % key)\n",
    "print('n --> ' \"%s\"  % key.n)\n",
    "print('e --> ' \"%s\"  % key.e)\n",
    "print('d --> ' \"%s\"  % key.d)\n",
    "print('p --> ' \"%s\"  % key.p)\n",
    "print('q --> ' \"%s\"  % key.q)\n",
    "print('n=p*q --> ' \"%s\"  % (key.p*key.q))\n",
    "print('¿Es primo p?--> ' \"%s\"  % (number.isPrime(key.p)))\n",
    "print('¿Es primo q?--> ' \"%s\"  % (number.isPrime(key.q)))\n",
    "\n",
    "# Se pueden chequear las posibilidades de la clave generada para el objeto RSA:\n",
    "print('¿Puede cifrar? --> ' \"%s\"  % key.can_encrypt())\n",
    "print('¿Puede firmar? --> ' \"%s\"  % key.can_sign())\n",
    "print('¿La clave privada está contenida ene el objeto? --> ' \"%s\"  % key.has_private())\n",
    "\n",
    "# Por ejemplo para el estandar de firma digital DSA, cambian las cosas\n",
    "from Crypto.Random import random\n",
    "from Crypto.PublicKey import DSA\n",
    "key_DSA = DSA.generate(1024)\n",
    "print('¿Puede cifrar? --> ' \"%s\"  % key_DSA.can_encrypt())\n",
    "print('¿Puede firmar? --> ' \"%s\"  % key_DSA.can_sign())\n",
    "print('¿La clave privada está contenida ene el objeto? --> ' \"%s\"  % key_DSA.has_private())\n",
    "\n",
    "# Volvemos al RSA y sacamos las claves de manera conveniente para cifrar y decifrar\n",
    "public_key = key.publickey() # hay que generar la nueva clave pública, para publicarla en algún sitio y que el receptor la pueda leer \n",
    "print('public_key --> ' \"%s\"  % public_key)  # es un objeto compuesto por e y n que tiene asociado métodos para cifrar y descifrar\n",
    "print('n --> ' \"%s\"  % key.n)\n",
    "print('e --> ' \"%s\"  % key.e)\n",
    "msg='Hola, quiero que me cifres con RSA' # mensaje a cifrar\n",
    "# Importamos la clave pública para cifrar los datos\n",
    "cifrar_rsa = PKCS1_OAEP.new(public_key)\n",
    "# Importamos la clave privada para descifrar los datos\n",
    "descifrar_rsa = PKCS1_OAEP.new(key)\n",
    "# Ahora ciframos y desciframos\n",
    "msgc = cifrar_rsa.encrypt(msg.encode()) # Sino se pone \"b\" en el mensaje, e deben codificar los datos a 'utf-8' ya que en En Python 3, \n",
    "                                        # no hay conversión implícita entre objetos Unicode (str) y objetos bytes.\n",
    "print('msgc --> ' \"%s\"  % msgc) # Cifrado con la clave publica\n",
    "print('msgc --> ' \"%s\"  % msgc.hex()) \n",
    "msg_descifrado = descifrar_rsa.decrypt(msgc) # Descifrado con la clave privada\n",
    "#msg_descifrado = key.decrypt(msgc) # Descifrado con la clave privada\n",
    "print('Mensaje decifrado --> ' \"%s\"  % msg_descifrado.decode())\n"
   ]
  },
  {
   "cell_type": "markdown",
   "metadata": {},
   "source": [
    "## Tu turno 3: Utiliza RSA para cifrar un mensaje pero invirtiendo el procedimiento del protocolo: primero utiliza la clave privada y luego la clave pública. Prueba que recuperas el mensaje ¿Explica que diferencia hay con el procedimiento anterior?"
   ]
  },
  {
   "cell_type": "code",
   "execution_count": 9,
   "metadata": {},
   "outputs": [
    {
     "name": "stdout",
     "output_type": "stream",
     "text": [
      "msgc --> b\"h\\x07w\\xd43\\x17\\x80KU\\x0e\\x185\\x08\\xcb)\\xa7\\xa45Wb\\x8aD\\x82~b\\xda\\x87\\xdcv\\x1d\\n\\xd7\\xb7\\x17\\x98\\xbd\\xbc]\\xf5p\\\\\\xa2\\xcdSI\\xc3pa\\xa8\\x11{s\\xc7\\x0c_\\xf9\\xde\\xe8\\x1c\\x8a\\xb7\\xc0\\xe1/\\xd3\\x00\\xd9\\xc6\\x1c\\xbe\\xf4\\x04\\xed\\xb0\\xe6\\xcaU\\x95\\x1b\\xb2K\\x8328\\xcd\\tT\\xe5X\\xd0\\xc2\\xd9\\xa1\\x00\\x93\\xdfM\\x8d\\x02\\x87\\xf8(l{j\\xcfVP\\x00' \\xef\\xc0h\\xf3\\x16nN\\x07\\x0ew\\xb4i\\x8d\\xb9\\xd3,|\"\n",
      "msgc --> 680777d43317804b550e183508cb29a7a43557628a44827e62da87dc761d0ad7b71798bdbc5df5705ca2cd5349c37061a8117b73c70c5ff9dee81c8ab7c0e12fd300d9c61cbef404edb0e6ca55951bb24b833238cd0954e558d0c2d9a10093df4d8d0287f8286c7b6acf5650002720efc068f3166e4e070e77b4698db9d32c7c\n"
     ]
    },
    {
     "ename": "TypeError",
     "evalue": "Private key not available in this object",
     "output_type": "error",
     "traceback": [
      "\u001b[0;31m---------------------------------------------------------------------------\u001b[0m",
      "\u001b[0;31mTypeError\u001b[0m                                 Traceback (most recent call last)",
      "\u001b[1;32m/home/javiermunoz/Universidad/Master/Primero/Seguridad/Practicas/P1/P1-SyP-2022.ipynb Cell 23'\u001b[0m in \u001b[0;36m<cell line: 21>\u001b[0;34m()\u001b[0m\n\u001b[1;32m     <a href='vscode-notebook-cell:/home/javiermunoz/Universidad/Master/Primero/Seguridad/Practicas/P1/P1-SyP-2022.ipynb#ch0000022?line=18'>19</a>\u001b[0m \u001b[39mprint\u001b[39m(\u001b[39m'\u001b[39m\u001b[39mmsgc --> \u001b[39m\u001b[39m'\u001b[39m \u001b[39m\"\u001b[39m\u001b[39m%s\u001b[39;00m\u001b[39m\"\u001b[39m  \u001b[39m%\u001b[39m msgc) \u001b[39m# Cifrado con la clave publica\u001b[39;00m\n\u001b[1;32m     <a href='vscode-notebook-cell:/home/javiermunoz/Universidad/Master/Primero/Seguridad/Practicas/P1/P1-SyP-2022.ipynb#ch0000022?line=19'>20</a>\u001b[0m \u001b[39mprint\u001b[39m(\u001b[39m'\u001b[39m\u001b[39mmsgc --> \u001b[39m\u001b[39m'\u001b[39m \u001b[39m\"\u001b[39m\u001b[39m%s\u001b[39;00m\u001b[39m\"\u001b[39m  \u001b[39m%\u001b[39m msgc\u001b[39m.\u001b[39mhex()) \n\u001b[0;32m---> <a href='vscode-notebook-cell:/home/javiermunoz/Universidad/Master/Primero/Seguridad/Practicas/P1/P1-SyP-2022.ipynb#ch0000022?line=20'>21</a>\u001b[0m msg_descifrado \u001b[39m=\u001b[39m descifrar_rsa_inv\u001b[39m.\u001b[39;49mdecrypt(msgc) \u001b[39m# Descifrado con la clave privada\u001b[39;00m\n\u001b[1;32m     <a href='vscode-notebook-cell:/home/javiermunoz/Universidad/Master/Primero/Seguridad/Practicas/P1/P1-SyP-2022.ipynb#ch0000022?line=21'>22</a>\u001b[0m \u001b[39m#msg_descifrado = key.decrypt(msgc) # Descifrado con la clave privada\u001b[39;00m\n\u001b[1;32m     <a href='vscode-notebook-cell:/home/javiermunoz/Universidad/Master/Primero/Seguridad/Practicas/P1/P1-SyP-2022.ipynb#ch0000022?line=22'>23</a>\u001b[0m \u001b[39mprint\u001b[39m(\u001b[39m'\u001b[39m\u001b[39mMensaje decifrado --> \u001b[39m\u001b[39m'\u001b[39m \u001b[39m\"\u001b[39m\u001b[39m%s\u001b[39;00m\u001b[39m\"\u001b[39m  \u001b[39m%\u001b[39m msg_descifrado\u001b[39m.\u001b[39mdecode())\n",
      "File \u001b[0;32m/usr/lib/python3/dist-packages/Crypto/Cipher/PKCS1_OAEP.py:197\u001b[0m, in \u001b[0;36mPKCS1OAEP_Cipher.decrypt\u001b[0;34m(self, ct)\u001b[0m\n\u001b[1;32m    <a href='file:///usr/lib/python3/dist-packages/Crypto/Cipher/PKCS1_OAEP.py?line=194'>195</a>\u001b[0m     \u001b[39mraise\u001b[39;00m \u001b[39mValueError\u001b[39;00m(\u001b[39m\"\u001b[39m\u001b[39mCiphertext with incorrect length.\u001b[39m\u001b[39m\"\u001b[39m)\n\u001b[1;32m    <a href='file:///usr/lib/python3/dist-packages/Crypto/Cipher/PKCS1_OAEP.py?line=195'>196</a>\u001b[0m \u001b[39m# Step 2a (O2SIP), 2b (RSADP), and part of 2c (I2OSP)\u001b[39;00m\n\u001b[0;32m--> <a href='file:///usr/lib/python3/dist-packages/Crypto/Cipher/PKCS1_OAEP.py?line=196'>197</a>\u001b[0m m \u001b[39m=\u001b[39m \u001b[39mself\u001b[39;49m\u001b[39m.\u001b[39;49m_key\u001b[39m.\u001b[39;49mdecrypt(ct)\n\u001b[1;32m    <a href='file:///usr/lib/python3/dist-packages/Crypto/Cipher/PKCS1_OAEP.py?line=197'>198</a>\u001b[0m \u001b[39m# Complete step 2c (I2OSP)\u001b[39;00m\n\u001b[1;32m    <a href='file:///usr/lib/python3/dist-packages/Crypto/Cipher/PKCS1_OAEP.py?line=198'>199</a>\u001b[0m em \u001b[39m=\u001b[39m bchr(\u001b[39m0x00\u001b[39m)\u001b[39m*\u001b[39m(k\u001b[39m-\u001b[39m\u001b[39mlen\u001b[39m(m)) \u001b[39m+\u001b[39m m\n",
      "File \u001b[0;32m/usr/lib/python3/dist-packages/Crypto/PublicKey/RSA.py:174\u001b[0m, in \u001b[0;36m_RSAobj.decrypt\u001b[0;34m(self, ciphertext)\u001b[0m\n\u001b[1;32m    <a href='file:///usr/lib/python3/dist-packages/Crypto/PublicKey/RSA.py?line=151'>152</a>\u001b[0m \u001b[39mdef\u001b[39;00m \u001b[39mdecrypt\u001b[39m(\u001b[39mself\u001b[39m, ciphertext):\n\u001b[1;32m    <a href='file:///usr/lib/python3/dist-packages/Crypto/PublicKey/RSA.py?line=152'>153</a>\u001b[0m     \u001b[39m\"\"\"Decrypt a piece of data with RSA.\u001b[39;00m\n\u001b[1;32m    <a href='file:///usr/lib/python3/dist-packages/Crypto/PublicKey/RSA.py?line=153'>154</a>\u001b[0m \n\u001b[1;32m    <a href='file:///usr/lib/python3/dist-packages/Crypto/PublicKey/RSA.py?line=154'>155</a>\u001b[0m \u001b[39m    Decryption always takes place with blinding.\u001b[39;00m\n\u001b[0;32m   (...)\u001b[0m\n\u001b[1;32m    <a href='file:///usr/lib/python3/dist-packages/Crypto/PublicKey/RSA.py?line=171'>172</a>\u001b[0m \u001b[39m     of byte strings. A long otherwise.\u001b[39;00m\n\u001b[1;32m    <a href='file:///usr/lib/python3/dist-packages/Crypto/PublicKey/RSA.py?line=172'>173</a>\u001b[0m \u001b[39m    \"\"\"\u001b[39;00m\n\u001b[0;32m--> <a href='file:///usr/lib/python3/dist-packages/Crypto/PublicKey/RSA.py?line=173'>174</a>\u001b[0m     \u001b[39mreturn\u001b[39;00m pubkey\u001b[39m.\u001b[39;49mpubkey\u001b[39m.\u001b[39;49mdecrypt(\u001b[39mself\u001b[39;49m, ciphertext)\n",
      "File \u001b[0;32m/usr/lib/python3/dist-packages/Crypto/PublicKey/pubkey.py:93\u001b[0m, in \u001b[0;36mpubkey.decrypt\u001b[0;34m(self, ciphertext)\u001b[0m\n\u001b[1;32m     <a href='file:///usr/lib/python3/dist-packages/Crypto/PublicKey/pubkey.py?line=90'>91</a>\u001b[0m \u001b[39mif\u001b[39;00m \u001b[39misinstance\u001b[39m(ciphertext[\u001b[39m0\u001b[39m], \u001b[39mbytes\u001b[39m):\n\u001b[1;32m     <a href='file:///usr/lib/python3/dist-packages/Crypto/PublicKey/pubkey.py?line=91'>92</a>\u001b[0m     ciphertext\u001b[39m=\u001b[39m\u001b[39mtuple\u001b[39m(\u001b[39mmap\u001b[39m(bytes_to_long, ciphertext)) ; wasString\u001b[39m=\u001b[39m\u001b[39m1\u001b[39m\n\u001b[0;32m---> <a href='file:///usr/lib/python3/dist-packages/Crypto/PublicKey/pubkey.py?line=92'>93</a>\u001b[0m plaintext\u001b[39m=\u001b[39m\u001b[39mself\u001b[39;49m\u001b[39m.\u001b[39;49m_decrypt(ciphertext)\n\u001b[1;32m     <a href='file:///usr/lib/python3/dist-packages/Crypto/PublicKey/pubkey.py?line=93'>94</a>\u001b[0m \u001b[39mif\u001b[39;00m wasString: \u001b[39mreturn\u001b[39;00m long_to_bytes(plaintext)\n\u001b[1;32m     <a href='file:///usr/lib/python3/dist-packages/Crypto/PublicKey/pubkey.py?line=94'>95</a>\u001b[0m \u001b[39melse\u001b[39;00m: \u001b[39mreturn\u001b[39;00m plaintext\n",
      "File \u001b[0;32m/usr/lib/python3/dist-packages/Crypto/PublicKey/RSA.py:239\u001b[0m, in \u001b[0;36m_RSAobj._decrypt\u001b[0;34m(self, c)\u001b[0m\n\u001b[1;32m    <a href='file:///usr/lib/python3/dist-packages/Crypto/PublicKey/RSA.py?line=236'>237</a>\u001b[0m cp \u001b[39m=\u001b[39m \u001b[39mself\u001b[39m\u001b[39m.\u001b[39mkey\u001b[39m.\u001b[39m_blind(ciphertext, r)\n\u001b[1;32m    <a href='file:///usr/lib/python3/dist-packages/Crypto/PublicKey/RSA.py?line=237'>238</a>\u001b[0m \u001b[39m# Step 3: Compute m' = c'**d mod n       (ordinary RSA decryption)\u001b[39;00m\n\u001b[0;32m--> <a href='file:///usr/lib/python3/dist-packages/Crypto/PublicKey/RSA.py?line=238'>239</a>\u001b[0m mp \u001b[39m=\u001b[39m \u001b[39mself\u001b[39;49m\u001b[39m.\u001b[39;49mkey\u001b[39m.\u001b[39;49m_decrypt(cp)\n\u001b[1;32m    <a href='file:///usr/lib/python3/dist-packages/Crypto/PublicKey/RSA.py?line=239'>240</a>\u001b[0m \u001b[39m# Step 4: Compute m = m**(r-1) mod n\u001b[39;00m\n\u001b[1;32m    <a href='file:///usr/lib/python3/dist-packages/Crypto/PublicKey/RSA.py?line=240'>241</a>\u001b[0m \u001b[39mreturn\u001b[39;00m \u001b[39mself\u001b[39m\u001b[39m.\u001b[39mkey\u001b[39m.\u001b[39m_unblind(mp, r)\n",
      "\u001b[0;31mTypeError\u001b[0m: Private key not available in this object"
     ]
    }
   ],
   "source": [
    "from  Crypto.Util import number\n",
    "from Crypto.PublicKey import RSA # manejo de claves RSA\n",
    "from Crypto.Cipher import PKCS1_OAEP # cifrador RSA\n",
    "from Crypto import Random\n",
    "\n",
    "\n",
    "generador_aleatorio = Random.new().read\n",
    "numero_bits_clave=1024\n",
    "key = RSA.generate(numero_bits_clave, generador_aleatorio) # la clave tiene toda la información que se necesita mas lo métodos asociados\n",
    "\n",
    "public_key = key.publickey()\n",
    "msg='Hola, quiero que me cifres con RSA' # mensaje a cifrar\n",
    "\n",
    "# Importamos la clave privada, ya que es la que vamos a utilizar para cifrar los datos. También importamos la clave privada, para descifrar los datos\n",
    "cifrar_rsa_inv = PKCS1_OAEP.new(key)\n",
    "descifrar_rsa_inv = PKCS1_OAEP.new(public_key)\n",
    "# Ahora ciframos y desciframos\n",
    "msgc = cifrar_rsa_inv.encrypt(msg.encode()) # Sino se pone \"b\" en el mensaje, e deben codificar los datos a 'utf-8' ya que en En Python 3, \n",
    "print('msgc --> ' \"%s\"  % msgc) # Cifrado con la clave publica\n",
    "print('msgc --> ' \"%s\"  % msgc.hex()) \n",
    "msg_descifrado = descifrar_rsa_inv.decrypt(msgc) # Descifrado con la clave privada\n",
    "#msg_descifrado = key.decrypt(msgc) # Descifrado con la clave privada\n",
    "print('Mensaje decifrado --> ' \"%s\"  % msg_descifrado.decode())"
   ]
  },
  {
   "cell_type": "markdown",
   "metadata": {},
   "source": [
    "__Explicación:__\n",
    "El error obtenido es debido que desde el punto de vista de seguridad, que cualquier persona pueda descifrar con la clave pública, sería un grave problema, ya que cualquier agente externo puede interceptar el mensaje, y con la clave pública del receptor, descifrar el mensaje. "
   ]
  },
  {
   "cell_type": "markdown",
   "metadata": {},
   "source": [
    "## 6) Firma y verificacion de un mensaje con RSA"
   ]
  },
  {
   "cell_type": "code",
   "execution_count": 22,
   "metadata": {
    "scrolled": true
   },
   "outputs": [
    {
     "name": "stdout",
     "output_type": "stream",
     "text": [
      "Digest de SHA512--> eeb99b864b3b52e7ebb665ea2b7c32cdec75d9f2edad3118e5e97c885db63e8de428899852a460754d90809abcee4c569a4e9a49e625a3007ec51e4227b79cde\n",
      "Firma--> 75311040685164201056507085314057779784546820098877501708686383469882189767129621419161064998440506640387604609874383629180077028021054250221494848438125099082012378022885818040899352232523088014028810274418099158345351428191067726028717551597993013723331081697736066853921250265114115185661824716400632910348\n",
      "-->\n",
      "-->\n",
      "Envio de mensaje y firma por canal inseguro (msg+firma)\n",
      "-->\n",
      "-->\n",
      "Firma valida: True\n"
     ]
    }
   ],
   "source": [
    "from Crypto.Hash import SHA512 # digest de 512\n",
    "\n",
    "from Crypto.PublicKey import RSA\n",
    "from Crypto import Random\n",
    "\n",
    "generador_aleatorio = Random.new().read\n",
    "numero_bits_clave=1024\n",
    "key = RSA.generate(numero_bits_clave, generador_aleatorio) # la clave tiene toda la información que se necesita mas lo métodos asociados\n",
    "msg=b'Hola, quiero firmar este mensaje con RSA' # mensaje a firmar\n",
    "hash = SHA512.new(msg).digest()\n",
    "print('Digest de SHA512--> ' \"%s\"  % (hash.hex()))\n",
    "public_key = key.publickey() # hay que generar la nueva clave pública, para publicarla en algún sitio y que el receptor la pueda leer \n",
    "hash_entero = int.from_bytes(hash, byteorder='big') # transformo el digest a un número entero\n",
    "firma = pow(hash_entero, key.d, key.n) # potenciación modular, una de las posibilidades de firma en RSA es cifrar el hash con la clave privada.\n",
    "print('Firma--> ' \"%s\"  % firma)\n",
    "\n",
    "\n",
    "####\n",
    "####\n",
    "# Ahora el Emisor envia el mensaje y su firma por la red al Receptor\n",
    "print('-->')\n",
    "print('-->')\n",
    "print('Envio de mensaje y firma por canal inseguro (msg+firma)')\n",
    "print('-->')\n",
    "print('-->')\n",
    "####\n",
    "####\n",
    "\n",
    "# Verificación de la firma\n",
    "hash_receptor= SHA512.new(msg).digest()\n",
    "hash_receptor_entero = int.from_bytes(hash, byteorder='big') # transformo el digest a un número entero\n",
    "hash_firma = pow(firma, key.e, key.n)\n",
    "print(\"Firma valida:\", hash_receptor_entero == hash_firma) # Si el hash que calcula el receptor es igual al hash \n",
    "                                                           # contenido en la firma la verificación es correcta\n",
    "\n",
    "\n",
    "# Aquí hemos implementado el protocolo de firma de la transparecia 120. Recordar que la función de cifrado y descifrado en RSA \n",
    "# es la potenciación modular: Clave pública PU = {e, n}, Clave privada PR = {d, n},\n",
    "# y el Cifrado/Descifrado:\n",
    "# Texto plano: M<n,   C = M^e mod n (función de potenciación modular)\n",
    "# Texto cifrado: C,   M = C^d mod n (función de potenciación modular)\n",
    "\n",
    "# PyCryptodome viene con varios estándares de firmas, como son PKCS#1 v1.5 (RSA), PKCS#1 PSS (RSA), \n",
    "# Digital Signature Algorithm (DSA and ECDSA). El estandar PKCS#1 v1.5, tiene una estructura muy similar al implementado arriba.\n",
    "# Para más información ver el paquete de firmas de PyCryptodome: \n",
    "# https://pycryptodome.readthedocs.io/en/latest/src/signature/signature.html#\n",
    "\n"
   ]
  },
  {
   "cell_type": "markdown",
   "metadata": {},
   "source": [
    "## 7) Intercambio de Claves Diffie–Hellman"
   ]
  },
  {
   "cell_type": "code",
   "execution_count": 23,
   "metadata": {},
   "outputs": [
    {
     "name": "stdout",
     "output_type": "stream",
     "text": [
      "primo_compartido--> 67\n",
      "g--> 50\n",
      "secreto_Alice--> 27\n",
      "secreto_Bob--> 13\n",
      "Alice envía Bob A = g^a mod p --> 58\n",
      "Bob envía Alice B = g^b mod p --> 61\n",
      "K_Alice --> 53\n",
      "K_Bob --> 53\n"
     ]
    }
   ],
   "source": [
    "# función de exponenciación modular rápida\n",
    "# Ejemplo 88^7=187 --> pow_mod(88,7,187)\n",
    "def pow_mod(x,e,m):\n",
    "    X = x\n",
    "    E = e\n",
    "    Y = 1\n",
    "    while E > 0:\n",
    "        if E % 2 == 0:\n",
    "            X = (X * X) % m\n",
    "            E = E/2\n",
    "        else:\n",
    "            Y = (X * Y) % m\n",
    "            E = E - 1\n",
    "    return Y\n",
    "########\n",
    " \n",
    "\n",
    "# Números públicos\n",
    "primo_compartido=67\n",
    "print('primo_compartido--> ' \"%s\"  % primo_compartido)\n",
    "g=50\n",
    "print('g--> ' \"%s\"  % g)\n",
    "# Alice elige su secreto\n",
    "secreto_Alice = 27\n",
    "print('secreto_Alice--> ' \"%s\"  % secreto_Alice)\n",
    "# Bob elige su secreto\n",
    "secreto_Bob = 13\n",
    "print('secreto_Bob--> ' \"%s\"  % secreto_Bob)\n",
    "\n",
    "# Alice envía Bob A = g^a mod p\n",
    "A = pow_mod(g,secreto_Alice,primo_compartido)\n",
    "print('Alice envía Bob A = g^a mod p --> ' \"%s\"  % A)\n",
    "\n",
    "# Bob envía Alice B = g^b mod p\n",
    "B = pow_mod(g,secreto_Bob,primo_compartido)\n",
    "print('Bob envía Alice B = g^b mod p --> ' \"%s\"  % B)\n",
    "\n",
    "# Ahora cada uno de ellos calculan secretamente la clave para el cifrado\n",
    "\n",
    "# Alice calcula la clave de cifrado: s = B^a mod p\n",
    "K_Alice = pow_mod(B, secreto_Alice, primo_compartido)\n",
    "print('K_Alice --> ' \"%s\"  % K_Alice)\n",
    "\n",
    "# Bob calcula la clave de cifrado: s = A^b mod p\n",
    "K_Bob = pow_mod(A, secreto_Bob, primo_compartido)\n",
    "print('K_Bob --> ' \"%s\"  % K_Bob)\n",
    "\n"
   ]
  },
  {
   "cell_type": "markdown",
   "metadata": {},
   "source": [
    "## Tu turno 4: Explicar porque Alice y Bob tienen una clave secreta común, k=53, cuando no se han pasado explicitamente la clave k=53."
   ]
  },
  {
   "cell_type": "markdown",
   "metadata": {},
   "source": [
    "__Explicación__: Debido a la aritmética modular que está implicada en el proceso de intercambio de claved de Diffie-Hellman. Dado que Alice y Bob han acordado un valor primo común p = 67, y coinciden en la base g = 50, procederan a elegir un valor secreto cada uno, sease en el caso de Alice (a=27) y de Bob (b=13), y haran el siguiente cálculo (g^a mod p) y se intercambiarán los valores obtenidos, llamemos a ambos valores A y B (de Alice y Bob, respectivamente). Ahora, Alice y Bob pueden calcular K, a partir de esos valores, de la siguiente manera:\n",
    "\n",
    "Alice: B^a mod p\n",
    "\n",
    "Bob: A^b mod p\n",
    "\n",
    "Como ambas partes pueden calcular la K, pueden usarla como clave compartida.\n",
    "\n",
    "Razonamiento sacado de [Wikipedia](https://es.wikipedia.org/wiki/Diffie-Hellman#Descripci%C3%B3n_detallada)."
   ]
  },
  {
   "cell_type": "markdown",
   "metadata": {},
   "source": [
    "## 8) Funciones Hash"
   ]
  },
  {
   "cell_type": "code",
   "execution_count": 24,
   "metadata": {
    "scrolled": true
   },
   "outputs": [
    {
     "name": "stdout",
     "output_type": "stream",
     "text": [
      "d256 --> e5ae018c198ddb056d81e80b8f46e4466ce663213513a31dc4933b79e5748b10\n",
      "d256 con un espacio al final --> 41f74ce2bef0fc6945a17fc8252cfd8a25ce3c3f0a557ac8ffa6915aba324531\n",
      "d512 --> 0599286b29a02e1618bc69f97912e8aa8c3c484f4d3412c0fa3b5b1fe2211980f6e84940087ba864f9ea5601d21aacfadc6b7e3af1dc167b80a2990b52571b30\n",
      "d512 con un espacio al final --> e58ba2e1ed71816c0135750e0ed9d5cb195ee75e14c90c07b2025fe46d2d1185cdaeb1a7bf42cbaf2d61ed89e3394ee86d35b6f5c846e9e8b271d744eb472195\n",
      "HASH de la password d512 --> 7182aec1a70db349e8843575acbfc34877020381519f7821c03fdb837dac89cb7d7d830ff95771da682a039f992f7f5b465191e061e4d580dba58bf9a5bd1d45\n",
      "OK --> False\n",
      "OK --> True\n",
      "MD5 del fichero Logo-UAM.gif--> 381eb171f5c7e0e7705a181c0cd8ef8e\n"
     ]
    }
   ],
   "source": [
    "from Crypto.Hash import SHA256\n",
    "from Crypto.Hash import SHA512\n",
    "\n",
    "\n",
    "msg = b'Hola, quiero un hash de este mensaje' # mensaje para hash\n",
    "d256 = SHA256.new(msg).hexdigest()\n",
    "print('d256 --> ' \"%s\"  % d256)\n",
    "\n",
    "# metiendo un espacio al final\n",
    "msg = b'Hola, quiero un hash de este mensaje ' # mensaje para hash\n",
    "d256_ = SHA256.new(msg).hexdigest()\n",
    "print('d256 con un espacio al final --> ' \"%s\"  % d256_)\n",
    "\n",
    "msg = b'Hola, quiero un hash de este mensaje' # mensaje para hash\n",
    "d512 = SHA512.new(msg).hexdigest()\n",
    "print('d512 --> ' \"%s\"  % d512)\n",
    "\n",
    "# metiendo un espacio al final\n",
    "msg = b'Hola, quiero un hash de este mensaje ' # mensaje para hash\n",
    "d512_ = SHA512.new(msg).hexdigest()\n",
    "print('d512 con un espacio al final --> ' \"%s\"  % d512_)\n",
    "\n",
    "# Las funciones hash se puede utilizar para muchas cosas\n",
    "# por ejemplo para passwords o para chequear la integridad de ficheros eu se descargan por la red.\n",
    "def chequear_password(mi_password, hash_mi_password):\n",
    "    return SHA512.new(mi_password).hexdigest() == hash_mi_password\n",
    "\n",
    "msg = b'pepito' # supuesta password\n",
    "d512 = SHA512.new(msg).hexdigest()\n",
    "print('HASH de la password d512 --> ' \"%s\"  % d512) # hash de la passwordo que copio en el seguno chequeo\n",
    "\n",
    "ok=chequear_password(b'pepito', 'e58ba2e1ed71816c0135750e0ed9d5cb195ee75e14c90c07b2025fe46d2d1185cdaeb1a7bf42cbaf2d61ed89e3394ee86d35b6f5c846e9e8b271d744eb472195')\n",
    "print('OK --> ' \"%s\"  % ok)\n",
    "\n",
    "ok=chequear_password(b'pepito', '7182aec1a70db349e8843575acbfc34877020381519f7821c03fdb837dac89cb7d7d830ff95771da682a039f992f7f5b465191e061e4d580dba58bf9a5bd1d45')\n",
    "print('OK --> ' \"%s\"  % ok)\n",
    "\n",
    "\n",
    "# para calcular la integridad de un fichero que te descargas por md5\n",
    "# Cualquier modificación de un fichero se puede detectar con un hash\n",
    "import os\n",
    "from Crypto.Hash import MD5\n",
    "\n",
    "def obtener_md5_fichero(nombre_fichero):\n",
    "    hash_md5 = MD5.new()\n",
    "    tamano_trozo_fichero = 8192\n",
    "    with open(nombre_fichero, 'rb') as f:\n",
    "        while True:\n",
    "            trozo_fichero = f.read(tamano_trozo_fichero)\n",
    "            if len(trozo_fichero) == 0:\n",
    "                break\n",
    "            hash_md5.update(trozo_fichero) # Al utilizar 'update' por trozos del fichero la memoria no se recarga\n",
    "    return hash_md5.hexdigest()\n",
    "\n",
    "h=obtener_md5_fichero('Logo-UAM.gif')\n",
    "print('MD5 del fichero Logo-UAM.gif--> ' \"%s\"  % h)\n"
   ]
  },
  {
   "cell_type": "markdown",
   "metadata": {},
   "source": [
    "## Tu turno 5: Implementa el esquema Firma Digital y Confidencialidad:\n",
    "<Table border=\"1\">\n",
    "<tr><td>\n",
    "<img alt=\"INTRO Seguridad y Privacidad Python\" title=\"INTRO Seguridad y Privacidad Python\" src=\"./FirmayConfidencialidad.png\" width=\"1000\">\n",
    "</td></tr>\n",
    "</table>"
   ]
  },
  {
   "cell_type": "code",
   "execution_count": 15,
   "metadata": {},
   "outputs": [
    {
     "name": "stdout",
     "output_type": "stream",
     "text": [
      "Digest de SHA512--> 89d718c44eb886c4840b2e1815dd3116d96ea22009aeb743ff4a0119b097e1160c40a34a61f49fc784587b86d1aa67890dd78dfd2d36a7d0998cbdfe57397a70\n",
      "Firma--> 18201952369661700614185023265233802767038071595503229434043091500767259890862581746976419960446980140767331417699172809950300345074801355833003710597896557501817779881151276918839724487548597802734658055462828166233969930907165546296332730109677039497076733547131580729770331921958228087204832624975623723149\n",
      "Mensaje plano --> b'2222222222222222'\n",
      "IV + Mensaje cifrado --> 7730fb61c58a657c68fdc2d86f384ed23d7867d43fac448b743df7d1a5532cd4\n",
      "-->\n",
      "-->\n",
      "Envio de mensaje y firma por canal inseguro (msg+firma)\n",
      "-->\n",
      "-->\n",
      "Firma valida: True\n",
      "Mensaje cifrado --> 3d7867d43fac448b743df7d1a5532cd4\n",
      "IV_enviado --> 7730fb61c58a657c68fdc2d86f384ed2\n",
      "Mensaje descifrado --> b'2222222222222222'\n"
     ]
    }
   ],
   "source": [
    "from Crypto.PublicKey import RSA\n",
    "from Crypto.Cipher import AES, PKCS1_OAEP\n",
    "from Crypto.Hash import SHA512 # digest de 512\n",
    "from Crypto import Random\n",
    "\n",
    "key_AES = b'1111111111111111'\n",
    "msg = b'2222222222222222' \n",
    "\n",
    "generador_aleatorio = Random.new().read\n",
    "numero_bits_clave=1024\n",
    "key = RSA.generate(numero_bits_clave, generador_aleatorio) # la clave tiene toda la información que se necesita mas lo métodos asociados\n",
    "hash = SHA512.new(msg).digest()\n",
    "print('Digest de SHA512--> ' \"%s\"  % (hash.hex()))\n",
    "public_key = key.publickey() # hay que generar la nueva clave pública, para publicarla en algún sitio y que el receptor la pueda leer \n",
    "hash_entero = int.from_bytes(hash, byteorder='big') # transformo el digest a un número entero\n",
    "firma = pow(hash_entero, key.d, key.n) # potenciación modular, una de las posibilidades de firma en RSA es cifrar el hash con la clave privada.\n",
    "print('Firma--> ' \"%s\"  % firma)\n",
    "\n",
    "iv_AES = Random.new().read(AES.block_size)\n",
    "\n",
    "cipherAES = AES.new(key_AES, AES.MODE_CFB, iv_AES)\n",
    "\n",
    "print('Mensaje plano -->', msg)\n",
    "# Cifrado, Emisor\n",
    "msgc = iv_AES + cipherAES.encrypt(msg) # El iv se añade al principio en el mensaje a enviar para luego al decifrar cogerlo\n",
    "print('IV + Mensaje cifrado -->', msgc.hex())\n",
    "\n",
    "\n",
    "####\n",
    "####\n",
    "# Ahora el Emisor envia el mensaje y su firma por la red al Receptor\n",
    "print('-->')\n",
    "print('-->')\n",
    "print('Envio de mensaje y firma por canal inseguro (msg+firma)')\n",
    "print('-->')\n",
    "print('-->')\n",
    "####\n",
    "####\n",
    "\n",
    "# Verificación de la firma\n",
    "hash_receptor= SHA512.new(msg).digest()\n",
    "hash_receptor_entero = int.from_bytes(hash, byteorder='big') # transformo el digest a un número entero\n",
    "hash_firma = pow(firma, key.e, key.n)\n",
    "print(\"Firma valida:\", hash_receptor_entero == hash_firma) # Si el hash que calcula el receptor es igual al hash \n",
    "                                                           # contenido en la firma la verificación es correcta\n",
    "\n",
    "# Descifrado, Receptor\n",
    "iv_enviado = msgc[:AES.block_size] # primero se saca el iv  del mensaje que estaba al principio\n",
    "cipher2 = AES.new(key_AES, AES.MODE_CFB, iv_enviado) # se crea un nuevo cifrador \n",
    "solo_mensaje=msgc[AES.block_size:]\n",
    "print('Mensaje cifrado -->', solo_mensaje.hex())\n",
    "msgd = cipher2.decrypt(solo_mensaje) # Deciframos el mensaje sin el iv\n",
    "print('IV_enviado -->', iv_enviado.hex())\n",
    "print('Mensaje descifrado -->', msgd)"
   ]
  },
  {
   "cell_type": "markdown",
   "metadata": {},
   "source": [
    "## Tu turno 6: Implementa este esquema de distribución de claves (OPCIONAL):\n",
    "<Table border=\"1\">\n",
    "<tr><td>\n",
    "<img alt=\"INTRO Seguridad y Privacidad Python\" title=\"INTRO Seguridad y Privacidad Python\" src=\"./KDC.png\" width=\"1000\">\n",
    "</td></tr>\n",
    "</table>"
   ]
  },
  {
   "cell_type": "code",
   "execution_count": null,
   "metadata": {},
   "outputs": [],
   "source": []
  }
 ],
 "metadata": {
  "anaconda-cloud": {},
  "kernelspec": {
   "display_name": "Python 3 (ipykernel)",
   "language": "python",
   "name": "python3"
  },
  "language_info": {
   "codemirror_mode": {
    "name": "ipython",
    "version": 3
   },
   "file_extension": ".py",
   "mimetype": "text/x-python",
   "name": "python",
   "nbconvert_exporter": "python",
   "pygments_lexer": "ipython3",
   "version": "3.8.10"
  }
 },
 "nbformat": 4,
 "nbformat_minor": 2
}
